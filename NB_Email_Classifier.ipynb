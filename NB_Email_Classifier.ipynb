{
  "nbformat": 4,
  "nbformat_minor": 0,
  "metadata": {
    "colab": {
      "provenance": [],
      "authorship_tag": "ABX9TyNoZ117Q68/kjpNxmbvbHGD",
      "include_colab_link": true
    },
    "kernelspec": {
      "name": "python3",
      "display_name": "Python 3"
    },
    "language_info": {
      "name": "python"
    }
  },
  "cells": [
    {
      "cell_type": "markdown",
      "metadata": {
        "id": "view-in-github",
        "colab_type": "text"
      },
      "source": [
        "<a href=\"https://colab.research.google.com/github/wormulus/NB-Email-Classifier/blob/main/NB_Email_Classifier.ipynb\" target=\"_parent\"><img src=\"https://colab.research.google.com/assets/colab-badge.svg\" alt=\"Open In Colab\"/></a>"
      ]
    },
    {
      "cell_type": "code",
      "execution_count": 7,
      "metadata": {
        "colab": {
          "base_uri": "https://localhost:8080/"
        },
        "id": "UULrvwT8jdZD",
        "outputId": "0bb4c967-e119-4f7b-d82f-5c9c2fda051d"
      },
      "outputs": [
        {
          "output_type": "stream",
          "name": "stdout",
          "text": [
            "The likelihood that these two categories can be distinguished is 92.15938303341902%\n",
            "The likelihood that these two categories can be distinguished is 99.22958397534669%\n",
            "The likelihood that these two categories can be distinguished is 97.48110831234257%\n",
            "The likelihood that these two categories can be distinguished is 50.44359949302915%\n"
          ]
        }
      ],
      "source": [
        "#import necessary things\n",
        "from sklearn.datasets import fetch_20newsgroups\n",
        "from sklearn.naive_bayes import MultinomialNB\n",
        "from sklearn.feature_extraction.text import CountVectorizer\n",
        "\n",
        "# possible test categories\n",
        "# 'alt.atheism' 'comp.graphics' 'comp.os.ms-windows.misc'\n",
        "# 'comp.sys.ibm.pc.hardware' 'comp.sys.mac.hardware'\n",
        "# 'comp.windows.x' 'misc.forsale' 'rec.autos'\n",
        "# 'rec.motorcycles' 'rec.sport.baseball' 'rec.sport.hockey'\n",
        "# 'sci.crypt' 'sci.electronics' 'sci.med' 'sci.space'\n",
        "# 'soc.religion.christian' 'talk.politics.guns'\n",
        "# 'talk.politics.mideast' 'talk.politics.misc' 'talk.religion.misc'\n",
        "\n",
        "def test_two_category_similarities(categories):\n",
        "  #training set\n",
        "  train_emails = fetch_20newsgroups(categories=categories, subset='train', shuffle=True, random_state=108)\n",
        "  #testing set\n",
        "  test_emails = fetch_20newsgroups(categories=categories, subset='test', shuffle=True, random_state=108)\n",
        "\n",
        "  #count vectorizer\n",
        "  counter = CountVectorizer()\n",
        "  #fit counter \n",
        "  counter.fit(test_emails.data + train_emails.data)\n",
        "  #make variable of training counts\n",
        "  train_counts = counter.transform(train_emails.data)\n",
        "  #make variable of testing counts\n",
        "  test_counts = counter.transform(test_emails.data)\n",
        "\n",
        "  #initialize classifier and fit it on training set & counts\n",
        "  classifier=MultinomialNB()\n",
        "  classifier.fit(train_counts, train_emails.target)\n",
        "\n",
        "  print(f'The likelihood that these two categories can be distinguished is {100*classifier.score(test_counts, test_emails.target)}%')\n",
        "\n",
        "test_two_category_similarities(['sci.electronics','comp.sys.mac.hardware'])\n",
        "test_two_category_similarities(['rec.motorcycles', 'talk.religion.misc'])\n",
        "test_two_category_similarities(['rec.autos', 'rec.motorcycles'])\n",
        "test_two_category_similarities(['comp.windows.x', 'comp.os.ms-windows.misc'])"
      ]
    }
  ]
}